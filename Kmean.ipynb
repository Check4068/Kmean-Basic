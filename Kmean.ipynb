{
 "cells": [
  {
   "cell_type": "code",
   "execution_count": 18,
   "metadata": {},
   "outputs": [],
   "source": [
    "# -*- coding: UTF-8 -*-\n",
    "\n",
    "#Team Members:\n",
    "#Yifu Liu\n",
    "#Chen Liu\n",
    "\n",
    "import matplotlib.pyplot as plt\n",
    "import numpy as np\n",
    "import pandas as pd\n",
    "import random"
   ]
  },
  {
   "cell_type": "code",
   "execution_count": 19,
   "metadata": {},
   "outputs": [],
   "source": [
    "# calculate the euclidean distance between vec1 and vec2 \n",
    "def calcuDistance(vec1, vec2):\n",
    "    return np.sqrt(np.sum(np.square(vec1 - vec2)))"
   ]
  },
  {
   "cell_type": "code",
   "execution_count": 20,
   "metadata": {},
   "outputs": [],
   "source": [
    "# Initialize k Centroids as mean vector ramdomly \n",
    "def initCentroids(dataSet, k):\n",
    "    return random.sample(dataSet, k)  "
   ]
  },
  {
   "cell_type": "code",
   "execution_count": 21,
   "metadata": {},
   "outputs": [],
   "source": [
    "# classify all the item by flag\n",
    "def classifybyflag(dataSet, centroidList):\n",
    "    clusterDict = dict()  \n",
    "    for item in dataSet:\n",
    "        vec1 = np.array(item)  \n",
    "        # Define \"Flag\" to note down the closest cluster for each item \n",
    "        flag = 0  \n",
    "        minDis = float(\"inf\")  \n",
    "        for i in range(len(centroidList)):# For each item, calculate the euclidean distance between item and all k Centroids\n",
    "            vec2 = np.array(centroidList[i])\n",
    "            distance = calcuDistance(vec1, vec2)  \n",
    "            # \"Flag\" will save as the closest cluster for current item\n",
    "            if distance < minDis:\n",
    "                minDis = distance\n",
    "                flag = i  \n",
    "        if flag not in clusterDict.keys():  # Initiate the flag if it doesn't exist\n",
    "            clusterDict[flag] = list()\n",
    "            print (flag, item)\n",
    "        # Find the smallest one and add it into cluster    \n",
    "        clusterDict[flag].append(item)  \n",
    "    return clusterDict  "
   ]
  },
  {
   "cell_type": "code",
   "execution_count": 22,
   "metadata": {},
   "outputs": [],
   "source": [
    "# Find k new Centroids\n",
    "def findCentroids(clusterDict):\n",
    "    centroidList = list()\n",
    "    for key in clusterDict.keys():\n",
    "        centroid = np.mean(np.array(clusterDict[key]), axis=0)  # Find centroid by calculating the mean vector\n",
    "        centroidList.append(centroid)\n",
    "    return np.array(centroidList).tolist()"
   ]
  },
  {
   "cell_type": "code",
   "execution_count": 23,
   "metadata": {},
   "outputs": [],
   "source": [
    "# Calculate the Mean Square Error for each cluster \n",
    "    \n",
    "def calcuMSE(clusterDict, centroidList):    \n",
    "    sum = 0.0\n",
    "    for key in clusterDict.keys(): # Add up the distance between centroid and all the vec\n",
    "        vec1 = np.array(centroidList[key])\n",
    "        distance = 0.0\n",
    "        for item in clusterDict[key]:\n",
    "            vec2 = np.array(item)\n",
    "            distance += calcuDistance(vec1, vec2)\n",
    "        sum += distance\n",
    "    return sum"
   ]
  },
  {
   "cell_type": "code",
   "execution_count": 24,
   "metadata": {},
   "outputs": [],
   "source": [
    "# Plot the cluster result for each iteration \n",
    "def plotCluster(centroidList, clusterDict):\n",
    "    colorMark = ['or', 'ob', 'og', 'ok', 'oy', 'oc','om']  \n",
    "    centroidMark = ['dr', 'db', 'dg', 'dk', 'dy','oc', 'dm']  \n",
    "    for key in clusterDict.keys():\n",
    "        plt.plot(centroidList[key][0], centroidList[key][1], centroidMark[key], markersize=20)  # plot centroid \n",
    "        for item in clusterDict[key]:\n",
    "            plt.plot(item[0], item[1], colorMark[key],markersize=2)  # plot all items for each cluster  \n",
    "    plt.show()"
   ]
  },
  {
   "cell_type": "code",
   "execution_count": 25,
   "metadata": {},
   "outputs": [
    {
     "name": "stdout",
     "output_type": "stream",
     "text": [
      "2 [6.575, 24.0]\n",
      "3 [6.421, 21.6]\n",
      "0 [5.631, 16.5]\n",
      "1 [6.377, 15.0]\n",
      "------------The 1 Iteration--------\n",
      "K Mean Vector:  [[6.335, 18.1], [6.629, 13.4], [6.565, 24.8], [6.31, 20.7]]\n",
      "Mean Square Error:  1861.0418615084156\n"
     ]
    },
    {
     "data": {
      "image/png": "[encoded data removed]",
      "text/plain": [
       "<Figure size 432x288 with 1 Axes>"
      ]
     },
     "metadata": {
      "needs_background": "light"
     },
     "output_type": "display_data"
    },
    {
     "name": "stdout",
     "output_type": "stream",
     "text": [
      "None\n",
      "1 [6.575, 24.0]\n",
      "0 [7.185, 34.7]\n",
      "2 [5.631, 16.5]\n",
      "3 [5.57, 13.6]\n",
      "------------The 2 Iteration--------\n",
      "K Mean Vector:  [[6.7580646766169155, 30.895024875621893], [6.068815126050419, 20.974789915966383], [5.9646233766233765, 17.85324675324675], [5.873293577981649, 12.119266055045872]]\n",
      "Mean Square Error:  1465.711868252618\n"
     ]
    },
    {
     "data": {
      "image/png": "[encoded data removed]",
      "text/plain": [
       "<Figure size 432x288 with 1 Axes>"
      ]
     },
     "metadata": {
      "needs_background": "light"
     },
     "output_type": "display_data"
    },
    {
     "name": "stdout",
     "output_type": "stream",
     "text": [
      "None\n",
      "0 [6.575, 24.0]\n",
      "1 [7.185, 34.7]\n",
      "2 [5.631, 16.5]\n",
      "3 [5.57, 13.6]\n",
      "------------The 3 Iteration--------\n",
      "K Mean Vector:  [[6.169015544041449, 22.243005181347144], [7.062471074380165, 35.50909090909089], [5.960112244897962, 17.560204081632648], [5.8590957446808485, 11.608510638297869]]\n",
      "Mean Square Error:  1341.0617662869893\n"
     ]
    },
    {
     "data": {
      "image/png": "[encoded data removed]",
      "text/plain": [
       "<Figure size 432x288 with 1 Axes>"
      ]
     },
     "metadata": {
      "needs_background": "light"
     },
     "output_type": "display_data"
    },
    {
     "name": "stdout",
     "output_type": "stream",
     "text": [
      "None\n",
      "0 [6.575, 24.0]\n",
      "1 [7.185, 34.7]\n",
      "2 [5.631, 16.5]\n",
      "3 [5.57, 13.6]\n",
      "------------The 4 Iteration--------\n",
      "K Mean Vector:  [[6.228176470588232, 23.145098039215675], [7.229372340425535, 37.801063829787225], [5.972798319327732, 17.727731092436976], [5.833179775280898, 11.428089887640448]]\n",
      "Mean Square Error:  1330.7302621027711\n"
     ]
    },
    {
     "data": {
      "image/png": "[encoded data removed]",
      "text/plain": [
       "<Figure size 432x288 with 1 Axes>"
      ]
     },
     "metadata": {
      "needs_background": "light"
     },
     "output_type": "display_data"
    },
    {
     "name": "stdout",
     "output_type": "stream",
     "text": [
      "None\n",
      "0 [6.575, 24.0]\n",
      "1 [7.185, 34.7]\n",
      "2 [5.631, 16.5]\n",
      "3 [5.57, 13.6]\n",
      "------------The 5 Iteration--------\n",
      "K Mean Vector:  [[6.291903061224488, 23.943877551020393], [7.3170125000000015, 39.22999999999998], [5.9663661971831, 18.082394366197168], [5.8434886363636345, 11.392045454545453]]\n",
      "Mean Square Error:  1331.1502015711192\n"
     ]
    },
    {
     "data": {
      "image/png": "[encoded data removed]",
      "text/plain": [
       "<Figure size 432x288 with 1 Axes>"
      ]
     },
     "metadata": {
      "needs_background": "light"
     },
     "output_type": "display_data"
    },
    {
     "name": "stdout",
     "output_type": "stream",
     "text": [
      "None\n"
     ]
    }
   ],
   "source": [
    "# Main function\n",
    "\n",
    "# Creating dataset\n",
    "url = 'https://raw.githubusercontent.com/jbrownlee/Datasets/master/housing.data'\n",
    "header_dict = {\n",
    "    'CRIM': 'per capita crime rate by town', \n",
    "    'ZN': 'proportion of residential land zoned for lots over 25,000 sq.ft',\n",
    "    'INDUS': 'proportion of nonretail business acres per town',\n",
    "    'CHAS': 'Charles River dummy variable (= 1 if tract bounds river; 0 otherwise)' ,\n",
    "    'NOX': 'nitric oxides concentration (parts per 10 million)', \n",
    "    'RM': 'average number of rooms per dwelling', \n",
    "    'AGE': 'proportion of owner-occupied units built prior to 1940' , \n",
    "    'DIS': 'weighted distances to five Boston employment centers', \n",
    "    'RAD': 'index of accessibility to radial highways' , \n",
    "    'TAX': 'full-value property-tax rate per $10,000' , \n",
    "    'PTRATIO': 'pupil-teacher ratio by town', \n",
    "    'B': '1000(Bk – 0.63)^2 where Bk is the proportion of blacks by town', \n",
    "    'LSTAT': 'percent lower status of the population', \n",
    "    'MEDV': 'Median value of owner-occupied homes in $1000s'\n",
    "    }\n",
    "headers = [\n",
    "    'CRIM', 'ZN', 'INDUS', 'CHAS', 'NOX', 'RM', 'AGE', 'DIS', \n",
    "    'RAD', 'TAX', 'PTRATIO', 'B', 'LSTAT', 'MEDV'\n",
    "    ] \n",
    "df = pd.read_fwf(url, names=headers)\n",
    "dataSet = np.array(df[['RM', 'MEDV']]).tolist()\n",
    "\n",
    "# Initialize k Centroids\n",
    "centroidList = initCentroids(dataSet,4)  \n",
    "\n",
    "# classify the item by flag\n",
    "clusterDict = classifybyflag(dataSet, centroidList) \n",
    "\n",
    "# Calculate the Mean Square Error  \n",
    "newMSE = calcuMSE(clusterDict, centroidList)  \n",
    "oldMSE = -1.0  \n",
    "\n",
    "print ('------------The 1 Iteration--------')\n",
    "print ('K Mean Vector: ', centroidList)\n",
    "print ('Mean Square Error: ', newMSE)\n",
    "\n",
    "# Plot the cluster result for each iteration \n",
    "print (plotCluster(centroidList, clusterDict))  \n",
    "\n",
    "\n",
    "k = 2\n",
    "\n",
    "# Once the Difference of Mean Square Error bewteen two iteration <1 , loop end\n",
    "while abs(newMSE - oldMSE) >= 1:  \n",
    "    \n",
    "        # Find new Centroids\n",
    "        centroidList = findCentroids(clusterDict)\n",
    "        \n",
    "        # Find new Cluster\n",
    "        clusterDict = classifybyflag(dataSet, centroidList)  \n",
    "        \n",
    "        # Calculate the Mean Square Error \n",
    "        oldMSE = newMSE\n",
    "        newMSE = calcuMSE(clusterDict, centroidList)\n",
    "        \n",
    "        print ('------------The %d Iteration--------' % k)\n",
    "        print ('K Mean Vector: ', centroidList)\n",
    "        print ('Mean Square Error: ', newMSE)\n",
    "        \n",
    "        # Plot the cluster result for each iteration \n",
    "        print (plotCluster(centroidList, clusterDict) ) \n",
    "        k += 1"
   ]
  },
  {
   "cell_type": "code",
   "execution_count": null,
   "metadata": {},
   "outputs": [],
   "source": []
  },
  {
   "cell_type": "code",
   "execution_count": null,
   "metadata": {},
   "outputs": [],
   "source": []
  },
  {
   "cell_type": "code",
   "execution_count": null,
   "metadata": {},
   "outputs": [],
   "source": []
  }
 ],
 "metadata": {
  "kernelspec": {
   "display_name": "Python 3",
   "language": "python",
   "name": "python3"
  },
  "language_info": {
   "codemirror_mode": {
    "name": "ipython",
    "version": 3
   },
   "file_extension": ".py",
   "mimetype": "text/x-python",
   "name": "python",
   "nbconvert_exporter": "python",
   "pygments_lexer": "ipython3",
   "version": "3.7.3"
  }
 },
 "nbformat": 4,
 "nbformat_minor": 4
}
